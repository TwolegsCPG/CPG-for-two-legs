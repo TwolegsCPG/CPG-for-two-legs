{
 "cells": [
  {
   "cell_type": "code",
   "execution_count": null,
   "metadata": {},
   "outputs": [],
   "source": []
  },
  {
   "cell_type": "code",
   "execution_count": 22,
   "metadata": {},
   "outputs": [],
   "source": [
    "import numpy as np\n",
    "\n",
    "import matplotlib as mpl\n",
    "\n",
    "import matplotlib.pyplot as plt\n",
    "plt.ion()\n",
    "\n",
    "# for the symbolic manipulation of jacobian\n",
    "import sympy as sp\n",
    "# from sympy import symbols\n",
    "# from sympy import sin, cos, asin, acos, pi, atan2, sqrt\n",
    "from sympy.utilities.lambdify import lambdify\n",
    "# from sympy import Matrix\n",
    "\n",
    "from scipy.optimize import minimize\n",
    "from scipy.optimize import fsolve"
   ]
  },
  {
   "cell_type": "code",
   "execution_count": 23,
   "metadata": {},
   "outputs": [],
   "source": [
    "## Motor constants\n",
    "K_T = 0.0285;                 # Nm / A\n",
    "peak_amp = 30;              # A\n",
    "peak_torque = K_T * peak_amp; # Nm\n",
    "m_motor = 0.2;              # kg\n",
    "m_assembly = 0.2;           # kg\n",
    "\n",
    "m_total = 2*m_motor + m_assembly; # kg\n",
    "\n",
    "gravity = 9.8;              # m/s^2\n",
    "\n",
    "weight = m_total * gravity  # N\n",
    "\n",
    "l1 = 0.09;                  # m \n",
    "l2 = 0.16;                  # m\n",
    "w = 0.07;                   # m\n"
   ]
  },
  {
   "cell_type": "code",
   "execution_count": null,
   "metadata": {},
   "outputs": [],
   "source": []
  },
  {
   "cell_type": "code",
   "execution_count": null,
   "metadata": {},
   "outputs": [],
   "source": []
  },
  {
   "cell_type": "markdown",
   "metadata": {},
   "source": [
    "## preparation before active motors"
   ]
  },
  {
   "cell_type": "code",
   "execution_count": 34,
   "metadata": {},
   "outputs": [],
   "source": [
    "import time\n",
    "import odrive\n",
    "import odrive.utils\n",
    "import odrive.enums"
   ]
  },
  {
   "cell_type": "markdown",
   "metadata": {},
   "source": [
    "### Connect to ODrive"
   ]
  },
  {
   "cell_type": "code",
   "execution_count": 35,
   "metadata": {},
   "outputs": [
    {
     "name": "stdout",
     "output_type": "stream",
     "text": [
      "Connected!\n",
      "Odrive serial 53207020417589\n",
      "Motor 0 calibrated: False\n",
      "Motor 1 calibrated: False\n"
     ]
    }
   ],
   "source": [
    "odrv1 = odrive.find_any()\n",
    "if odrv1 is not None:\n",
    "    print('Connected!')\n",
    "    print('Odrive serial {}'.format(odrv1.serial_number))\n",
    "    \n",
    "    m0 = odrv1.axis0.motor.is_calibrated\n",
    "    m1 = odrv1.axis1.motor.is_calibrated\n",
    "    \n",
    "    print('Motor 0 calibrated: {}'.format(m0))\n",
    "    print('Motor 1 calibrated: {}'.format(m1))    \n",
    "    \n",
    "else:\n",
    "    print('Not connected')"
   ]
  },
  {
   "cell_type": "markdown",
   "metadata": {},
   "source": [
    "### Calibrate"
   ]
  },
  {
   "cell_type": "code",
   "execution_count": 19,
   "metadata": {},
   "outputs": [
    {
     "name": "stdout",
     "output_type": "stream",
     "text": [
      "\t Odrv 1_Motor 0 calibration result: True \n",
      " \t Odrv 1_Motor 1 calibration result: True\n"
     ]
    }
   ],
   "source": [
    "odrv1.axis0.requested_state = odrive.enums.AXIS_STATE_FULL_CALIBRATION_SEQUENCE\n",
    "odrv1.axis1.requested_state = odrive.enums.AXIS_STATE_FULL_CALIBRATION_SEQUENCE\n",
    "\n",
    "time.sleep(15)\n",
    "\n",
    "print('\\t Odrv 1_Motor 0 calibration result: {} \\r\\n'.format(odrv1.axis0.motor.is_calibrated), \n",
    "      '\\t Odrv 1_Motor 1 calibration result: {}'.format(odrv1.axis1.motor.is_calibrated))\n",
    "odrv1.axis0.encoder.config.use_index = False\n",
    "odrv1.axis0.encoder.config.pre_calibrated = False\n",
    "odrv1.axis0.config.startup_encoder_index_search = False\n",
    "odrv1.axis0.motor.config.pre_calibrated = False\n",
    "odrv1.save_configuration()"
   ]
  },
  {
   "cell_type": "code",
   "execution_count": 30,
   "metadata": {},
   "outputs": [],
   "source": [
    "odrv1.axis0.requested_state = odrive.enums.AXIS_STATE_CLOSED_LOOP_CONTROL\n",
    "odrv1.axis1.requested_state = odrive.enums.AXIS_STATE_CLOSED_LOOP_CONTROL"
   ]
  },
  {
   "cell_type": "code",
   "execution_count": 24,
   "metadata": {},
   "outputs": [],
   "source": [
    "# get motor parameters\n",
    "motor_cpr = (odrv1.axis0.encoder.config.cpr, odrv1.axis1.encoder.config.cpr)\n",
    "pos_zero = ([odrv1.axis0.encoder.pos_estimate, odrv1.axis1.encoder.pos_estimate])\n",
    "\n",
    "# position to angle\n",
    "angle = np.zeros(shape=(1,2))\n",
    "def pos2angle(pos, cpr = motor_cpr, pos_zero = pos_zero, zero_theta = (0,0)):\n",
    "    angle[0,0] = -2*np.pi*(pos[0] - pos_zero[0])/motor_cpr[0]+zero_theta[0]\n",
    "    angle[0,1] = -2*np.pi*(pos[1] - pos_zero[1])/motor_cpr[1]+zero_theta[1]\n",
    "    return (angle)"
   ]
  },
  {
   "cell_type": "code",
   "execution_count": 25,
   "metadata": {},
   "outputs": [],
   "source": [
    "# angle to position\n",
    "pos = np.zeros(shape=(1,2))\n",
    "def angle2pos(thetaL, thetaR, pos_zero = pos_zero, cpr = motor_cpr, zero_theta = (0,0)):\n",
    "    pos[0,0] = -(thetaL - zero_theta[0])/(2*np.pi)*motor_cpr[0] + pos_zero[0]\n",
    "    pos[0,1] = -(thetaR - zero_theta[1])/(2*np.pi)*motor_cpr[1] + pos_zero[1]    \n",
    "    return (pos)"
   ]
  },
  {
   "cell_type": "code",
   "execution_count": null,
   "metadata": {},
   "outputs": [],
   "source": []
  },
  {
   "cell_type": "code",
   "execution_count": 31,
   "metadata": {},
   "outputs": [],
   "source": [
    "odrv1.axis0.requested_state = odrive.enums.AXIS_STATE_CLOSED_LOOP_CONTROL\n",
    "odrv1.axis1.requested_state = odrive.enums.AXIS_STATE_CLOSED_LOOP_CONTROL"
   ]
  },
  {
   "cell_type": "code",
   "execution_count": 32,
   "metadata": {},
   "outputs": [],
   "source": [
    "start = time.time()\n",
    "t_curr = 0\n",
    "C = 0.5\n",
    "\n",
    "pos0 = ([odrv1.axis0.encoder.pos_estimate, odrv1.axis1.encoder.pos_estimate])\n",
    "aL0 = pos2angle(pos0)[0,0]\n",
    "aR0 = pos2angle(pos0)[0,1]\n",
    "    \n",
    "while(t_curr < 20):\n",
    "    t_curr = (time.time() - start)\n",
    "    pos0 = ([odrv1.axis0.encoder.pos_estimate, odrv1.axis1.encoder.pos_estimate])\n",
    "    aL = pos2angle(pos0)[0,0]\n",
    "    aR = pos2angle(pos0)[0,1]\n",
    "    \n",
    "    aL0 = aL0 + 0.01*(3+0*np.sin(aR-aL))\n",
    "    aR0 = aR0 + 0.01*(3+50*np.sin(aL-aR))\n",
    " \n",
    "    odrv1.axis0.controller.pos_setpoint = angle2pos(aL0,aR0)[0,0]\n",
    "    odrv1.axis1.controller.pos_setpoint = angle2pos(aL0,aR0)[0,1]\n",
    "    \n",
    "    time.sleep(0.01)"
   ]
  },
  {
   "cell_type": "code",
   "execution_count": null,
   "metadata": {},
   "outputs": [],
   "source": []
  },
  {
   "cell_type": "code",
   "execution_count": 33,
   "metadata": {},
   "outputs": [],
   "source": [
    "odrv1.axis0.requested_state = odrive.enums.AXIS_STATE_IDLE\n",
    "odrv1.axis1.requested_state = odrive.enums.AXIS_STATE_IDLE"
   ]
  },
  {
   "cell_type": "code",
   "execution_count": 18,
   "metadata": {},
   "outputs": [],
   "source": []
  },
  {
   "cell_type": "code",
   "execution_count": 41,
   "metadata": {},
   "outputs": [
    {
     "data": {
      "text/plain": [
       "[-1998.765625, 2921.234375]"
      ]
     },
     "execution_count": 41,
     "metadata": {},
     "output_type": "execute_result"
    }
   ],
   "source": [
    "pos_zero = ([odrv1.axis0.encoder.pos_estimate,odrv1.axis1.encoder.pos_estimate])\n",
    "pos_zero"
   ]
  },
  {
   "cell_type": "code",
   "execution_count": null,
   "metadata": {},
   "outputs": [],
   "source": []
  }
 ],
 "metadata": {
  "kernelspec": {
   "display_name": "Python 3",
   "language": "python",
   "name": "python3"
  },
  "language_info": {
   "codemirror_mode": {
    "name": "ipython",
    "version": 3
   },
   "file_extension": ".py",
   "mimetype": "text/x-python",
   "name": "python",
   "nbconvert_exporter": "python",
   "pygments_lexer": "ipython3",
   "version": "3.7.4"
  }
 },
 "nbformat": 4,
 "nbformat_minor": 4
}

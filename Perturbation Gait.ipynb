{
 "cells": [
  {
   "cell_type": "code",
   "execution_count": 53,
   "metadata": {},
   "outputs": [],
   "source": [
    "import numpy as np\n",
    "\n",
    "import matplotlib as mpl\n",
    "mpl.use('Qt5Agg')\n",
    "\n",
    "import matplotlib.pyplot as plt\n",
    "from matplotlib.pyplot import figure\n",
    "plt.ion()\n",
    "\n",
    "# for the symbolic manipulation of jacobian\n",
    "import sympy as sp\n",
    "from sympy.utilities.lambdify import lambdify\n",
    "\n",
    "from scipy.optimize import minimize\n",
    "from scipy.optimize import fsolve\n",
    "\n",
    "import time\n",
    "\n",
    "import odrive\n",
    "import odrive.utils\n",
    "import odrive.enums"
   ]
  },
  {
   "cell_type": "markdown",
   "metadata": {},
   "source": [
    "# Design Study"
   ]
  },
  {
   "cell_type": "code",
   "execution_count": 43,
   "metadata": {},
   "outputs": [],
   "source": [
    "%matplotlib inline\n",
    "\n",
    "def gaitTrajectoryCycle(on_coords, off_coords, swing_coords, d, T, N):\n",
    "    \"\"\"\n",
    "    return allpts - a list of tuple (x, y) that represents the required \n",
    "                    gait trajectory from (xon, yon) to (xoff, yoff) via a\n",
    "                    straight line and the back to (xon, yon) via\n",
    "                    (xswing, yswing) along a parabola\n",
    "                    \n",
    "    \"\"\"\n",
    "    xon, yon = on_coords\n",
    "    xoff, yoff = off_coords\n",
    "    xswing, yswing = swing_coords\n",
    "    \n",
    "    swing_points = int(N*(1-d))\n",
    "    print(swing_points)\n",
    "    swing_pts = []\n",
    "\n",
    "    # original curve\n",
    "    coeffs = np.polyfit([xonn, xoff, xswing], [yonn, yoff, yswing], deg=2)\n",
    "\n",
    "\n",
    "    for i in range(swing_points):\n",
    "        if xoff > xonn:\n",
    "            x = xoff - ((np.abs(xoff-xonn)/swing_points)*(i+1))\n",
    "        else:\n",
    "            x = xoff + ((np.abs(xoff-xonn)/swing_points)*(i+1))\n",
    "        \n",
    "        # use parabola equation to find y coordinate\n",
    "        y = coeffs[0]*(x**2) + coeffs[1]*x + coeffs[2]\n",
    "        swing_pts.append((x,y))\n",
    "\n",
    "    stance_points = int(N*(d))\n",
    "    stan_pts = []\n",
    "\n",
    "    linecoeffs = np.polyfit([xonn,xoff],[yonn,yoff],deg=1)\n",
    "    for i in range(stance_points):\n",
    "        if xoff > xonn:\n",
    "            x = xonn + ((np.abs(xoff-xonn)/stance_points)*(i+1))\n",
    "        else:\n",
    "            x = xonn - ((np.abs(xoff-xonn)/stance_points)*(i+1))\n",
    "        \n",
    "        # use line equation to find y coordinate\n",
    "        y = linecoeffs[0]*x + linecoeffs[1]\n",
    "        stan_pts.append((x,y))\n",
    "    allpts = stan_pts + swing_pts\n",
    "    return allpts"
   ]
  },
  {
   "cell_type": "markdown",
   "metadata": {},
   "source": [
    "## Parameters for 1st Case of HW3"
   ]
  },
  {
   "cell_type": "code",
   "execution_count": 3,
   "metadata": {},
   "outputs": [
    {
     "name": "stdout",
     "output_type": "stream",
     "text": [
      "50\n"
     ]
    },
    {
     "data": {
      "image/png": "[encoded data removed]",
      "text/plain": [
       "<Figure size 432x288 with 1 Axes>"
      ]
     },
     "metadata": {
      "needs_background": "light"
     },
     "output_type": "display_data"
    }
   ],
   "source": [
    "# the gait trajectory has been shifted along\n",
    "# y-axis since the current trajectory was\n",
    "# resulting in linkage collisions\n",
    "yshift = 0.07\n",
    "\n",
    "xoff = -0.11\n",
    "yoff = 0.12 + yshift\n",
    "\n",
    "xonn = 0.11\n",
    "yonn = 0.12 + yshift\n",
    "\n",
    "xswing = 0\n",
    "yswing = 0.05 + yshift\n",
    "\n",
    "N = 100\n",
    "d = 0.5\n",
    "T = 0.25\n",
    "\n",
    "allpts = gaitTrajectoryCycle((xonn,yonn), (xoff,yoff), \n",
    "                             (xswing,yswing), d, T, N)\n",
    "plt.scatter(*zip(*allpts))\n",
    "plt.title('Trajectory for Case 1')\n",
    "plt.xlabel('x')\n",
    "plt.ylabel('y')\n",
    "plt.show()"
   ]
  },
  {
   "cell_type": "markdown",
   "metadata": {},
   "source": [
    "## Solve for Forward and Inverse Kinematics"
   ]
  },
  {
   "cell_type": "code",
   "execution_count": 44,
   "metadata": {},
   "outputs": [],
   "source": [
    "# code shared by professor\n",
    "## Motor constants\n",
    "K = 0.0285;                 # Nm / A\n",
    "peak_amp = 30;              # A\n",
    "peak_torque = K * peak_amp; # Nm\n",
    "m_motor = 0.2;              # kg\n",
    "m_assembly = 0.2;           # kg\n",
    "\n",
    "m_total = 2*m_motor + m_assembly; # kg\n",
    "\n",
    "gravity = 9.8;              # m/s^2\n",
    "\n",
    "weight = m_total * gravity  # N\n",
    "\n",
    "l1 = 0.09;                  # m \n",
    "l2 = 0.16;                  # m\n",
    "w = 0.07;                   # m\n",
    "\n",
    "# solve jacobian of constraint equation\n",
    "(thetaL_sym, \n",
    " thetaR_sym, \n",
    " link1_sym, \n",
    " link2_sym, \n",
    " width_sym) = sp.symbols(\"\"\"thetaL_sym \n",
    "                            thetaR_sym \n",
    "                            link1_sym \n",
    "                            link2_sym \n",
    "                            width_sym\"\"\", real = True)\n",
    "\n",
    "def Trnfm(theta, x, y):\n",
    "    \"\"\"\n",
    "    Function to return an arbitrary transformation matrix \n",
    "    This is for sympy symbolic calculation\n",
    "    \"\"\"\n",
    "    return sp.Matrix([[sp.cos(theta), -sp.sin(theta), x], \n",
    "                      [sp.sin(theta), sp.cos(theta), y],\n",
    "                      [0, 0, 1]])\n",
    "\n",
    "def sym_to_np(T):\n",
    "    return np.array(T).astype(np.float64)\n",
    "\n"
   ]
  },
  {
   "cell_type": "markdown",
   "metadata": {},
   "source": [
    "### Solve Forward Kinematics"
   ]
  },
  {
   "cell_type": "code",
   "execution_count": 45,
   "metadata": {},
   "outputs": [
    {
     "data": {
      "text/latex": [
       "$\\displaystyle \\left[\\begin{matrix}\\frac{link_{1 sym} \\left(\\frac{\\left(\\sin{\\left(thetaL_{sym} \\right)} - \\sin{\\left(thetaR_{sym} \\right)}\\right) \\sqrt{2 link_{1 sym}^{2} \\cos{\\left(thetaL_{sym} - thetaR_{sym} \\right)} - 2 link_{1 sym}^{2} + 2 link_{1 sym} width_{sym} \\cos{\\left(thetaL_{sym} \\right)} - 2 link_{1 sym} width_{sym} \\cos{\\left(thetaR_{sym} \\right)} + 4 link_{2 sym}^{2} - width_{sym}^{2}}}{\\sqrt{- 2 link_{1 sym}^{2} \\cos{\\left(thetaL_{sym} - thetaR_{sym} \\right)} + 2 link_{1 sym}^{2} - 2 link_{1 sym} width_{sym} \\cos{\\left(thetaL_{sym} \\right)} + 2 link_{1 sym} width_{sym} \\cos{\\left(thetaR_{sym} \\right)} + width_{sym}^{2}}} + \\cos{\\left(thetaL_{sym} \\right)} + \\cos{\\left(thetaR_{sym} \\right)}\\right)}{2}\\\\\\frac{link_{1 sym} \\left(- \\sin{\\left(thetaL_{sym} \\right)} + \\sin{\\left(thetaR_{sym} \\right)}\\right)}{2} + link_{1 sym} \\sin{\\left(thetaL_{sym} \\right)} + \\frac{\\left(- link_{1 sym} \\cos{\\left(thetaL_{sym} \\right)} + link_{1 sym} \\cos{\\left(thetaR_{sym} \\right)} + width_{sym}\\right) \\sqrt{2 link_{1 sym}^{2} \\cos{\\left(thetaL_{sym} - thetaR_{sym} \\right)} - 2 link_{1 sym}^{2} + 2 link_{1 sym} width_{sym} \\cos{\\left(thetaL_{sym} \\right)} - 2 link_{1 sym} width_{sym} \\cos{\\left(thetaR_{sym} \\right)} + 4 link_{2 sym}^{2} - width_{sym}^{2}}}{2 \\sqrt{- 2 link_{1 sym}^{2} \\cos{\\left(thetaL_{sym} - thetaR_{sym} \\right)} + 2 link_{1 sym}^{2} - 2 link_{1 sym} width_{sym} \\cos{\\left(thetaL_{sym} \\right)} + 2 link_{1 sym} width_{sym} \\cos{\\left(thetaR_{sym} \\right)} + width_{sym}^{2}}}\\end{matrix}\\right]$"
      ],
      "text/plain": [
       "Matrix([\n",
       "[                                                                  link1_sym*((sin(thetaL_sym) - sin(thetaR_sym))*sqrt(2*link1_sym**2*cos(thetaL_sym - thetaR_sym) - 2*link1_sym**2 + 2*link1_sym*width_sym*cos(thetaL_sym) - 2*link1_sym*width_sym*cos(thetaR_sym) + 4*link2_sym**2 - width_sym**2)/sqrt(-2*link1_sym**2*cos(thetaL_sym - thetaR_sym) + 2*link1_sym**2 - 2*link1_sym*width_sym*cos(thetaL_sym) + 2*link1_sym*width_sym*cos(thetaR_sym) + width_sym**2) + cos(thetaL_sym) + cos(thetaR_sym))/2],\n",
       "[link1_sym*(-sin(thetaL_sym) + sin(thetaR_sym))/2 + link1_sym*sin(thetaL_sym) + (-link1_sym*cos(thetaL_sym) + link1_sym*cos(thetaR_sym) + width_sym)*sqrt(2*link1_sym**2*cos(thetaL_sym - thetaR_sym) - 2*link1_sym**2 + 2*link1_sym*width_sym*cos(thetaL_sym) - 2*link1_sym*width_sym*cos(thetaR_sym) + 4*link2_sym**2 - width_sym**2)/(2*sqrt(-2*link1_sym**2*cos(thetaL_sym - thetaR_sym) + 2*link1_sym**2 - 2*link1_sym*width_sym*cos(thetaL_sym) + 2*link1_sym*width_sym*cos(thetaR_sym) + width_sym**2))]])"
      ]
     },
     "execution_count": 45,
     "metadata": {},
     "output_type": "execute_result"
    }
   ],
   "source": [
    "x_r = width_sym/2 + link1_sym*sp.cos(thetaR_sym)\n",
    "x_l = -width_sym/2 + link1_sym*sp.cos(thetaL_sym)\n",
    "\n",
    "y_r = link1_sym*sp.sin(thetaR_sym)\n",
    "y_l = link1_sym*sp.sin(thetaL_sym)\n",
    "\n",
    "theta3_sym = sp.atan2(y_r - y_l, x_r - x_l)\n",
    "L = sp.sqrt((x_l - x_r)**2 + (y_l - y_r)**2)\n",
    "\n",
    "FK = Trnfm(thetaL_sym, -width_sym/2, 0)@Trnfm(-(thetaL_sym - theta3_sym), link1_sym, 0)@sp.Matrix([L/2, sp.sqrt(link2_sym**2 - (L/2)**2), 1])\n",
    "FK = FK[:2,:]\n",
    "FK.simplify()\n",
    "FK"
   ]
  },
  {
   "cell_type": "code",
   "execution_count": 46,
   "metadata": {},
   "outputs": [],
   "source": [
    "def internal_angles(thetaR, thetaL, l1 = l1, l2 = l2, w = w):\n",
    "\n",
    "    # \n",
    "    # system_of_equations = @(x) sum(abs([w + l1*(cos(b1)-cos(a1)) + l2*(cos(x(2))-cos(x(1)));\n",
    "    #                                    l1*(sin(b1)-sin(a1)) + l2*(sin(x(2))-sin(x(1)))]));\n",
    "    # \n",
    "    # x_guess = [a1, b1 + pi/2];                               \n",
    "    # % [x,fval,exitflag,output] = fminsearch(system_of_equations, x_guess);\n",
    "    # [x,fval,exitflag,output] = fmincon(system_of_equations, ...\n",
    "    #                                    x_guess, ...\n",
    "    #                                    [], [], [], [], ...\n",
    "    #                                    [-pi, -pi], [pi, pi]);\n",
    "    # \n",
    "    # a2 = x(1);\n",
    "    # b2 = x(2);\n",
    "    # \n",
    "    # x = w/2 + l1*cos(b1) + l2*cos(b2);\n",
    "    # y = l1*sin(b1) + l2*sin(b2);\n",
    "\n",
    "    def sys(x): \n",
    "        return (w + l1*np.cos(thetaR) + l2*np.cos(x[0]) - l1*np.cos(thetaL) - l2*np.cos(x[1]),\n",
    "                l1*np.sin(thetaR) + l2*np.sin(x[0]) - l1*np.sin(thetaL) - l2*np.sin(x[1]))\n",
    "\n",
    "    alphaR, alphaL = fsolve(sys, (np.pi/2, np.pi/2))\n",
    "    \n",
    "    alphaR = alphaR % (2*np.pi)\n",
    "    alphaL = alphaL % (2*np.pi)\n",
    "        \n",
    "    # Copmute FK for checking\n",
    "    x = w/2 + l1*np.cos(thetaR) + l2*np.cos(alphaR);\n",
    "    y = l1*np.sin(thetaR) + l2*np.sin(alphaR);\n",
    "\n",
    "    return (alphaR, alphaL, x, y)\n",
    "\n",
    "thetaR = .5\n",
    "thetaL = np.pi\n",
    "\n",
    "(alphaR, alphaL, x, y) = internal_angles(thetaR, thetaL)\n",
    "\n",
    "# Should produce\n",
    "# alphaL\n",
    "# Out[17]: 0.8878073988680342\n",
    "\n",
    "# alphaR\n",
    "# Out[18]: 2.611036674795031"
   ]
  },
  {
   "cell_type": "markdown",
   "metadata": {},
   "source": [
    "### Solve Inverse Kinematics"
   ]
  },
  {
   "cell_type": "code",
   "execution_count": 47,
   "metadata": {},
   "outputs": [
    {
     "name": "stdout",
     "output_type": "stream",
     "text": [
      "Compare the FK position (top) and the IK solution (bottom) method: \n",
      "          \r\n",
      " theta_R = 0.5000 \t theta_L = 3.1416 \r\n",
      " theta_R = 0.5000 \t theta_L = 3.1416\n"
     ]
    }
   ],
   "source": [
    "def IK_5_link(x, y, l1 = l1, l2 = l2, w = w):\n",
    "    \n",
    "    def leg_wide(var):\n",
    "        return np.linalg.norm([var[1] - np.pi, var[0]])\n",
    "    \n",
    "    def x_constraint_equation(var):\n",
    "        # should be equal to zero when the \n",
    "        return l1**2 - l2**2 + (x - w/2)**2 + y**2 - 2*l1*(y*np.sin(var[0]) + (x - w/2)*np.cos(var[0]))\n",
    "\n",
    "    def y_constraint_equation(var):\n",
    "        return l1**2 - l2**2 + (x + w/2)**2 + y**2 - 2*l1*(y*np.sin(var[1]) + (x + w/2)*np.cos(var[1]))\n",
    "\n",
    "    \n",
    "    res = minimize(leg_wide, (0.1, 9*np.pi/10), method=\"SLSQP\", constraints= ({\"type\": \"eq\", \"fun\": x_constraint_equation}, \n",
    "                                                                               {\"type\": \"eq\", \"fun\": y_constraint_equation}))\n",
    "    \n",
    "    return (res, np.linalg.norm([x_constraint_equation(res.x), y_constraint_equation(res.x)]))\n",
    "\n",
    "\n",
    "# Test, the following theta's correspond to the x-y below\n",
    "thetaR = .5\n",
    "thetaL = np.pi\n",
    "    \n",
    "x = -0.024021708847354217\n",
    "y = 0.12411037295149752\n",
    "\n",
    "res = IK_5_link(x, y)\n",
    "\n",
    "\n",
    "print(\"\"\"Compare the FK position (top) and the IK solution (bottom) method: \n",
    "          \\r\\n theta_R = {:.4f} \\t theta_L = {:.4f} \\r\\n theta_R = {:.4f} \\t theta_L = {:.4f}\"\"\".format(thetaR, thetaL, res[0].x[0], res[0].x[1]))"
   ]
  },
  {
   "cell_type": "markdown",
   "metadata": {},
   "source": [
    "## Joint Angle vs Time plot"
   ]
  },
  {
   "cell_type": "code",
   "execution_count": null,
   "metadata": {},
   "outputs": [],
   "source": [
    "timeThetaL=[]\n",
    "timeThetaR=[]\n",
    "\n",
    "interval=T/N\n",
    "\n",
    "for i, pt in enumerate(allpts):\n",
    "    x,y = pt\n",
    "    res = IK_5_link(x,y)\n",
    "    thetaR = res[0].x[0]\n",
    "    thetaL = res[0].x[1]\n",
    "    time_sec = (i+1)*interval\n",
    "    timeThetaL.append((time_sec, thetaL))\n",
    "    timeThetaR.append((time_sec, thetaR))\n",
    "\n",
    "fig, axs = plt.subplots(2, figsize=(10,10))\n",
    "axs[0].scatter(*zip(*timeThetaL))\n",
    "axs[0].set_title('Case 1 - joint angle thetaL vs time')\n",
    "axs[0].set_xlabel('time')\n",
    "axs[0].set_ylabel('theta L')\n",
    "\n",
    "axs[1].scatter(*zip(*timeThetaR))\n",
    "axs[1].set_title('Case 1 - joint angle thetaR vs time')\n",
    "axs[1].set_xlabel('time')\n",
    "axs[1].set_ylabel('theta R')\n",
    "fig.tight_layout()\n",
    "plt.show()"
   ]
  },
  {
   "cell_type": "markdown",
   "metadata": {},
   "source": [
    "## Parameters for 2nd Case of HW3"
   ]
  },
  {
   "cell_type": "code",
   "execution_count": null,
   "metadata": {},
   "outputs": [],
   "source": [
    "# the gait trajectory has been shifted along\n",
    "# y-axis since the current trajectory was\n",
    "# resulting in linkage collisions\n",
    "yshift = 0.05\n",
    "\n",
    "xoff = -0.08\n",
    "yoff = 0.10 + yshift\n",
    "\n",
    "xonn = 0.11\n",
    "yonn = 0.14 + yshift\n",
    "\n",
    "xswing = 0.05\n",
    "yswing = 0.05 + yshift\n",
    "\n",
    "N = 100\n",
    "d = 0.75\n",
    "T = 0.5\n",
    "\n",
    "allpts = gaitTrajectoryCycle((xonn,yonn), (xoff,yoff), \n",
    "                             (xswing,yswing), d, T, N)\n",
    "plt.scatter(*zip(*allpts))\n",
    "plt.title('Trajectory for Case 2')\n",
    "plt.xlabel('x')\n",
    "plt.ylabel('y')\n",
    "plt.show()"
   ]
  },
  {
   "cell_type": "markdown",
   "metadata": {},
   "source": [
    "## Joint Angle vs Time plot"
   ]
  },
  {
   "cell_type": "code",
   "execution_count": null,
   "metadata": {},
   "outputs": [],
   "source": [
    "timeThetaL=[]\n",
    "timeThetaR=[]\n",
    "timeAngles=[]\n",
    "\n",
    "interval=T/N\n",
    "\n",
    "for i, pt in enumerate(allpts):\n",
    "    x,y = pt\n",
    "    res = IK_5_link(x,y)\n",
    "    thetaR = res[0].x[0]\n",
    "    thetaL = res[0].x[1]\n",
    "    time_sec = (i+1)*interval\n",
    "    timeThetaL.append((time_sec, thetaL))\n",
    "    timeThetaR.append((time_sec, thetaR))\n",
    "    timeAngles.append((time_sec, thetaL, thetaR))\n",
    "\n",
    "fig, axs = plt.subplots(2, figsize=(10,10))\n",
    "axs[0].scatter(*zip(*timeThetaL))\n",
    "axs[0].set_title('Case 2 - joint angle thetaL vs time')\n",
    "axs[0].set_xlabel('time')\n",
    "axs[0].set_ylabel('theta L')\n",
    "\n",
    "axs[1].scatter(*zip(*timeThetaR))\n",
    "axs[1].set_title('Case 2 - joint angle thetaR vs time')\n",
    "axs[1].set_xlabel('time')\n",
    "axs[1].set_ylabel('theta R')\n",
    "fig.tight_layout()\n",
    "plt.show()"
   ]
  },
  {
   "cell_type": "markdown",
   "metadata": {},
   "source": [
    "## Parameters for 3rd Case of HW3"
   ]
  },
  {
   "cell_type": "code",
   "execution_count": 48,
   "metadata": {},
   "outputs": [
    {
     "name": "stdout",
     "output_type": "stream",
     "text": [
      "100\n"
     ]
    },
    {
     "data": {
      "image/png": "[encoded data removed]",
      "text/plain": [
       "<Figure size 432x288 with 1 Axes>"
      ]
     },
     "metadata": {
      "needs_background": "light"
     },
     "output_type": "display_data"
    }
   ],
   "source": [
    "# the gait trajectory has been shifted along\n",
    "# y-axis since the current trajectory was\n",
    "# resulting in linkage collisions\n",
    "yshift = 0.09\n",
    "\n",
    "xoff = -0.08\n",
    "yoff = 0.10 + yshift\n",
    "\n",
    "xonn = 0.08\n",
    "yonn = 0.10 + yshift\n",
    "\n",
    "xswing = 0\n",
    "yswing = 0.04 + yshift\n",
    "\n",
    "N = 200\n",
    "d = 0.5\n",
    "T = 1.5\n",
    "\n",
    "allpts = gaitTrajectoryCycle((xonn,yonn), (xoff,yoff), \n",
    "                             (xswing,yswing), d, T, N)\n",
    "plt.scatter(*zip(*allpts))\n",
    "plt.title('Trajectory for Case 3')\n",
    "plt.xlabel('x')\n",
    "plt.ylabel('y')\n",
    "plt.show()"
   ]
  },
  {
   "cell_type": "markdown",
   "metadata": {},
   "source": [
    "## Joint Angle vs Time plot"
   ]
  },
  {
   "cell_type": "code",
   "execution_count": 49,
   "metadata": {},
   "outputs": [
    {
     "data": {
      "image/png": "[encoded data removed]",
      "text/plain": [
       "<Figure size 720x720 with 2 Axes>"
      ]
     },
     "metadata": {
      "needs_background": "light"
     },
     "output_type": "display_data"
    }
   ],
   "source": [
    "timeThetaL=[]\n",
    "timeThetaR=[]\n",
    "timeAngles=[]\n",
    "\n",
    "interval=T/N\n",
    "\n",
    "for i, pt in enumerate(allpts):\n",
    "    x,y = pt\n",
    "    res = IK_5_link(x,y)\n",
    "    thetaR = res[0].x[0]\n",
    "    thetaL = res[0].x[1]\n",
    "    time_sec = (i+1)*interval\n",
    "    timeThetaL.append((time_sec, thetaL))\n",
    "    timeThetaR.append((time_sec, thetaR))\n",
    "    timeAngles.append((time_sec, thetaL, thetaR))\n",
    "\n",
    "fig, axs = plt.subplots(2, figsize=(10,10))\n",
    "axs[0].scatter(*zip(*timeThetaL))\n",
    "axs[0].set_title('Case 3 - joint angle thetaL vs time')\n",
    "axs[0].set_xlabel('time')\n",
    "axs[0].set_ylabel('theta L')\n",
    "\n",
    "axs[1].scatter(*zip(*timeThetaR))\n",
    "axs[1].set_title('Case 3 - joint angle thetaR vs time')\n",
    "axs[1].set_xlabel('time')\n",
    "axs[1].set_ylabel('theta R')\n",
    "fig.tight_layout()\n",
    "plt.show()"
   ]
  },
  {
   "cell_type": "markdown",
   "metadata": {},
   "source": [
    "# Hands on Study"
   ]
  },
  {
   "cell_type": "markdown",
   "metadata": {},
   "source": [
    "## 1\n",
    "Video can be viewed [here](https://drive.google.com/open?id=1zroBBbNkSy9SrHy99chM4LuCHi5hkWOG)    \n",
    "Or at the link: https://drive.google.com/open?id=1zroBBbNkSy9SrHy99chM4LuCHi5hkWOG"
   ]
  },
  {
   "cell_type": "markdown",
   "metadata": {},
   "source": [
    "## 2\n",
    "\n",
    "Code to actually move the foot along a given trajectory"
   ]
  },
  {
   "cell_type": "code",
   "execution_count": 51,
   "metadata": {},
   "outputs": [
    {
     "name": "stdout",
     "output_type": "stream",
     "text": [
      "Connected!\n",
      "Odrive serial 53331572306485\n",
      "Motor 0 calibrated: False\n",
      "Motor 1 calibrated: True\n"
     ]
    }
   ],
   "source": [
    "# 306639533235 left motor config\n",
    "# 3081396C3235 right motor config (kandoi, chinmay setup)\n",
    "odrv0 = odrive.find_any(serial_number = '3081396C3235', timeout = 20)\n",
    "if odrv0 is not None:\n",
    "    print('Connected!')\n",
    "    print('Odrive serial {}'.format(odrv0.serial_number))\n",
    "    \n",
    "    odrv0.axis0.motor.config.pre_calibrated = True\n",
    "    odrv0.axis1.motor.config.pre_calibrated = True\n",
    "    \n",
    "    m0 = odrv0.axis0.motor.is_calibrated\n",
    "    m1 = odrv0.axis1.motor.is_calibrated\n",
    "    \n",
    "    print('Motor 0 calibrated: {}'.format(m0))\n",
    "    print('Motor 1 calibrated: {}'.format(m1)) "
   ]
  },
  {
   "cell_type": "code",
   "execution_count": 12,
   "metadata": {},
   "outputs": [
    {
     "name": "stdout",
     "output_type": "stream",
     "text": [
      "\t Motor 0 calibration result: True \r\n",
      " \t Motor 1 calibration result: True\n"
     ]
    }
   ],
   "source": [
    "odrv0.axis0.requested_state = odrive.enums.AXIS_STATE_FULL_CALIBRATION_SEQUENCE\n",
    "odrv0.axis1.requested_state = odrive.enums.AXIS_STATE_FULL_CALIBRATION_SEQUENCE\n",
    "\n",
    "time.sleep(15)\n",
    "\n",
    "print('Motor 0 calibration result: {} \\r\\n'.format(odrv0.axis0.motor.is_calibrated), \n",
    "      'Motor 1 calibration result: {}'.format(odrv0.axis1.motor.is_calibrated))"
   ]
  },
  {
   "cell_type": "markdown",
   "metadata": {},
   "source": [
    "## Perturbation Recovery Gait"
   ]
  },
  {
   "cell_type": "code",
   "execution_count": 52,
   "metadata": {},
   "outputs": [],
   "source": [
    "def GateCentre(entireTraj):\n",
    "    xCoordList = np.array([coords[0] for coords in entireTraj])\n",
    "    yCoordList = np.array([coords[1] for coords in entireTraj])\n",
    "    yCentre = np.mean(yCoordList) # y of new center\n",
    "    xCentre = np.mean(xCoordList) # x of new center\n",
    "    newOrigin = np.array([xCentre, yCentre])\n",
    "    return newOrigin\n",
    "\n",
    "def getNewCoordinates(gaitOrigin, x, y):\n",
    "    # get point from leg coordinate system\n",
    "    # change it's values to new coordinate system\n",
    "    newX = x - gaitOrigin[0]\n",
    "    newY = y - gaitOrigin[1]\n",
    "    newCoordinates = np.array([newX, newY])\n",
    "    return newCoordinates\n",
    "\n",
    "def getWorldCoord(gaitOrigin, x, y):\n",
    "    worldX = x + gaitOrigin[0]\n",
    "    worldY = y + gaitOrigin[1]\n",
    "    worldCoordinates = np.array([worldX, worldY])\n",
    "    return worldCoordinates\n",
    "\n",
    "def getNewPolarCoordinates(gaitCartesianCoord):\n",
    "    radial_len = np.sqrt(gaitCartesianCoord[0]**2 + gaitCartesianCoord[1]**2)\n",
    "    beta = np.arctan2(gaitCartesianCoord[1], gaitCartesianCoord[0])\n",
    "    polar = np.array([radial_len, beta])\n",
    "    return polar\n",
    "\n",
    "def closestPointInTrajectory(currPos, targetTraj, length): # should take actual position and command list(x,y) coordinates\n",
    "    # in nutshell I am finding nearest point in the trajectory\n",
    "    error = []\n",
    "    for idx, val in enumerate(targetTraj):# enter command list(x,y)\n",
    "        coords = np.array([val[0], val[1]])\n",
    "        err = np.linalg.norm(currPos-coords)\n",
    "        error.append(err)\n",
    "    minerr_idx = np.argmin(error)\n",
    "#     print((minerr_idx + 1) % length)\n",
    "    return targetTraj[(minerr_idx + 1) % length]\n",
    "\n",
    "def closestPolarPointInTrajectory(currPolarPos, targetPolarTraj, length, startidx): # should take actual position and command list(x,y) coordinates\n",
    "    # in nutshell I am finding nearest point in the trajectory\n",
    "    traj_np = np.array(targetPolarTraj).reshape((-1,2))\n",
    "    error = np.square(traj_np[:,1]-currPolarPos[1])\n",
    "    minerr_idx = np.argmin(error)\n",
    "    # print('min at idx', startidx + minerr_idx)\n",
    "    return targetPolarTraj[minerr_idx]\n",
    "\n",
    "def idxOfClosestPolarPointInTraj(currPolarPos, targetPolarTraj, margin, length):\n",
    "    # find index of closest point in trajectory\n",
    "    traj_np = np.array(targetPolarTraj).reshape((-1,2))\n",
    "    error = np.square(traj_np[:,1]-currPolarPos[1])\n",
    "    minerr_idx = np.argmin(error)\n",
    "    return (minerr_idx + margin) % length"
   ]
  },
  {
   "cell_type": "code",
   "execution_count": 36,
   "metadata": {},
   "outputs": [
    {
     "name": "stdout",
     "output_type": "stream",
     "text": [
      "zero_L -1178.7664794921875\n",
      "zero_R 321.234130859375\n"
     ]
    }
   ],
   "source": [
    "zero_L = odrv0.axis0.encoder.pos_estimate\n",
    "zero_R = odrv0.axis1.encoder.pos_estimate\n",
    "print('zero_L',zero_L)\n",
    "print('zero_R',zero_R)"
   ]
  },
  {
   "cell_type": "code",
   "execution_count": 37,
   "metadata": {},
   "outputs": [],
   "source": [
    "odrv0.axis0.controller.error=0\n",
    "odrv0.axis0.motor.error=0\n",
    "odrv0.axis0.encoder.error=0\n",
    "odrv0.axis0.error=0\n",
    "\n",
    "odrv0.axis1.controller.error=0\n",
    "odrv0.axis1.motor.error=0\n",
    "odrv0.axis1.encoder.error=0\n",
    "odrv0.axis1.error=0\n",
    "\n",
    "# current limit\n",
    "curr_limit = 25 #A\n",
    "odrv0.axis0.motor.config.current_lim = curr_limit\n",
    "odrv0.axis1.motor.config.current_lim = curr_limit"
   ]
  },
  {
   "cell_type": "code",
   "execution_count": 38,
   "metadata": {},
   "outputs": [
    {
     "name": "stdout",
     "output_type": "stream",
     "text": [
      "zero_L -1178.7664794921875\n",
      "zero_R 321.234130859375\n",
      "1.6928842762091043 0.39895058174251957\n",
      "0.07839999998558911 0.18999999999632552\n",
      "countL 710.0555824549019\n",
      "countR -198.91655797997112\n"
     ]
    }
   ],
   "source": [
    "# set errors to 0\n",
    "odrv0.axis0.controller.error=0\n",
    "odrv0.axis0.motor.error=0\n",
    "odrv0.axis0.encoder.error=0\n",
    "odrv0.axis0.error=0\n",
    "\n",
    "odrv0.axis1.controller.error=0\n",
    "odrv0.axis1.motor.error=0\n",
    "odrv0.axis1.encoder.error=0\n",
    "odrv0.axis1.error=0\n",
    "\n",
    "odrv0.axis0.requested_state = odrive.enums.AXIS_STATE_CLOSED_LOOP_CONTROL\n",
    "odrv0.axis1.requested_state = odrive.enums.AXIS_STATE_CLOSED_LOOP_CONTROL\n",
    "\n",
    "motor_cpr = (odrv0.axis0.encoder.config.cpr, \n",
    "             odrv0.axis1.encoder.config.cpr)\n",
    "\n",
    "def encoderCountAtAngleL(angle, zerocount, motor_cpr):\n",
    "    #thetaL = 2*np.pi*(1/2-(odrv0.axis0.encoder.pos_estimate - zero_L)/motor_cpr[0])\n",
    "    count = zerocount + motor_cpr*(1/2-angle/(2*np.pi))\n",
    "    return count\n",
    "\n",
    "def encoderCountAtAngleR(angle, zerocount, motor_cpr):\n",
    "    #thetaR = -2*np.pi*(odrv0.axis1.encoder.pos_estimate - zero_R)/motor_cpr[1]\n",
    "    count = zerocount - (motor_cpr*angle)/(2*np.pi)\n",
    "    return count\n",
    "\n",
    "def getAngleL(count, zerocount, motor_cpr):\n",
    "    thetaL = 2*np.pi*(1/2-(count - zerocount)/motor_cpr)\n",
    "    return thetaL\n",
    "\n",
    "def getAngleR(count, zerocount, motor_cpr):\n",
    "    thetaR = -2*np.pi*(count - zerocount)/motor_cpr\n",
    "    return thetaR\n",
    "\n",
    "t, thetaL, thetaR = timeAngles[0]\n",
    "print(thetaL, thetaR)\n",
    "M = FK.subs([(thetaL_sym, thetaL),(thetaR_sym, thetaR),(link1_sym, l1),(link2_sym, l2),(width_sym, w)])\n",
    "x, y = sym_to_np(M).reshape((1,2))[0]\n",
    "print(x, y)\n",
    "\n",
    "countL = encoderCountAtAngleL(thetaL, zero_L, motor_cpr[0])\n",
    "print('countL', countL)\n",
    "countR = encoderCountAtAngleR(thetaR, zero_R, motor_cpr[1])\n",
    "print('countR', countR)\n",
    "odrv0.axis0.controller.set_pos_setpoint(countL,0,0)\n",
    "odrv0.axis1.controller.set_pos_setpoint(countR,0,0)\n",
    "\n",
    "assert countL-zero_L < 2500, 'diff in count for M0 is too high'\n",
    "assert countR-zero_R > -2500, 'diff in count for M1 is too high'\n"
   ]
  },
  {
   "cell_type": "code",
   "execution_count": 39,
   "metadata": {},
   "outputs": [
    {
     "name": "stdout",
     "output_type": "stream",
     "text": [
      "[(0.08091032075081647, 0.24975083776449566), (0.07936094760018937, 0.25473391451554234), (0.07781362351156772, 0.25991530121248113), (0.0762684731983013, 0.2653067807208634), (0.07472563150619742, 0.2709210621880822), (0.0731852444417589, 0.2767718709461349), (0.07164747032519712, 0.2828740486814025), (0.0701124810857525, 0.2892436651966023), (0.06858046371963378, 0.29589814327528624), (0.06705162193414864, 0.3028563983707986)] \n",
      "\n",
      "[(0.08035605069937173, 2.9204967507993436), (0.07830802280737267, 2.9450235522513513), (0.07631778427077138, 2.970231404179849), (0.0743855599158869, 2.996132754495587), (0.07251155496884618, 3.022738819769285), (0.07069595069026231, 3.05005937284885), (0.06893889958506735, 3.0781025194882865), (0.0672405201942995, 3.1068744666792467), (0.0656008914878449, 3.1363792861878785), (0.0640200468915792, 3.166618677665269), (0.06249796799896777, 3.197591736588281), (0.06103457803573316, 3.2292947331567667), (0.05962973516627422, 3.261720909070173), (0.05828322575149732, 3.2948602997686027), (0.056994757688755913, 3.3286995901805794), (0.05576395398463062, 3.3632220121988103), (0.05459034672906924, 3.398407291935675), (0.0534733716535623, 3.434231654231123), (0.05241236346512148, 3.470667890854332), (0.05140655215047982, 3.507685497340113)] \n",
      "\n",
      "[(0.05241236346512147, 5.954110069915046), (0.053473371653562314, 5.990546306538256), (0.05459034672906924, 6.026370668833704), (0.055763953984630625, 6.061555948570569), (0.056994757688755913, 6.0960783705888), (0.05828322575149732, 6.129917661000777), (0.059629735166274234, 6.163057051699206), (0.061034578035733165, 6.195483227612613), (0.06249796799896777, 6.227186224181098), (0.06402004689157921, 6.25815928310411), (0.0656008914878449, 6.288398674581501), (0.0672405201942995, 6.317903494090133), (0.06893889958506737, 6.346675441281094), (0.07069595069026231, 6.37471858792053), (0.07251155496884616, 6.4020391410000945), (0.07438555991588691, 6.428645206273792), (0.07631778427077138, 6.454546556589531), (0.07830802280737266, 6.479754408518028), (0.08035605069937174, 6.504281209970036), (0.08246162746393014, 6.528140440756281), (0.08091032075081647, 6.532936144944082), (0.07936094760018937, 6.5379192216951285), (0.07781362351156772, 6.543100608392067), (0.0762684731983013, 6.54849208790045), (0.07472563150619742, 6.554106369367668), (0.0731852444417589, 6.559957178125721), (0.07164747032519712, 6.566059355860989), (0.0701124810857525, 6.572428972376189), (0.06858046371963378, 6.579083450454872), (0.06705162193414864, 6.586041705550385)] \n",
      "\n",
      "[(0.06552617800543538, 6.593324302262319), (0.06400437488172198, 6.600953629837606), (0.062486478569367336, 6.608954099243744), (0.06097278084522636, 6.617352364711296), (0.05946360234630932, 6.626177573033847), (0.05795929609648484, 6.635461644346745), (0.05646025154035361, 6.645239588579332), (0.05496689916668033, 6.655549862282912), (0.05347971581824275, 6.666434771065869), (0.05199923080200324, 6.677940923395584)] \n",
      "\n",
      "[(0.08035605069937173, 9.20368205797893), (0.07830802280737267, 9.228208859430937), (0.07631778427077138, 9.253416711359435), (0.0743855599158869, 9.279318061675173), (0.07251155496884618, 9.30592412694887), (0.07069595069026231, 9.333244680028436), (0.06893889958506735, 9.361287826667873), (0.0672405201942995, 9.390059773858834), (0.0656008914878449, 9.419564593367465), (0.0640200468915792, 9.449803984844856), (0.06249796799896777, 9.480777043767867), (0.06103457803573316, 9.512480040336353), (0.05962973516627422, 9.544906216249759), (0.05828322575149732, 9.578045606948189), (0.056994757688755913, 9.611884897360166), (0.05576395398463062, 9.646407319378397), (0.05459034672906924, 9.68159259911526), (0.0534733716535623, 9.71741696141071), (0.05241236346512148, 9.753853198033918), (0.05140655215047982, 9.790870804519699)] \n",
      "\n",
      "[(0.05241236346512147, 12.237295377094632), (0.053473371653562314, 12.273731613717842), (0.05459034672906924, 12.309555976013291), (0.055763953984630625, 12.344741255750156), (0.056994757688755913, 12.379263677768385), (0.05828322575149732, 12.413102968180363), (0.059629735166274234, 12.446242358878793), (0.061034578035733165, 12.478668534792199), (0.06249796799896777, 12.510371531360684), (0.06402004689157921, 12.541344590283696), (0.0656008914878449, 12.571583981761087), (0.0672405201942995, 12.60108880126972), (0.06893889958506737, 12.629860748460679), (0.07069595069026231, 12.657903895100116), (0.07251155496884616, 12.685224448179682), (0.07438555991588691, 12.711830513453378), (0.07631778427077138, 12.737731863769117), (0.07830802280737266, 12.762939715697614), (0.08035605069937174, 12.787466517149623), (0.08246162746393014, 12.811325747935866), (0.08091032075081647, 12.816121452123667), (0.07936094760018937, 12.821104528874715), (0.07781362351156772, 12.826285915571654), (0.0762684731983013, 12.831677395080035), (0.07472563150619742, 12.837291676547254), (0.0731852444417589, 12.843142485305307), (0.07164747032519712, 12.849244663040574), (0.0701124810857525, 12.855614279555775), (0.06858046371963378, 12.862268757634459), (0.06705162193414864, 12.86922701272997)] \n",
      "\n"
     ]
    }
   ],
   "source": [
    "actualAnglesL = []\n",
    "actualAnglesR = []\n",
    "timeActualPos = []\n",
    "\n",
    "gaitOrigin = GateCentre(allpts)\n",
    "allpts_gait = []\n",
    "allpts_gait_polar = []\n",
    "\n",
    "zero_pi_add_val = 0\n",
    "zero_min_pi_add_val = 2*np.pi\n",
    "prev = 0\n",
    "for loop_idx in np.arange(0, 10):\n",
    "    for idx, val in enumerate(allpts):\n",
    "        x,y = val\n",
    "        x_gait, y_gait = getNewCoordinates(gaitOrigin, x, y)\n",
    "        polar_gait = getNewPolarCoordinates(np.array([x_gait, y_gait]))\n",
    "#         polar_gait[1] += 2*np.pi*loop_idx\n",
    "        if polar_gait[1] > 0 and polar_gait[1] < np.pi:\n",
    "            if prev == 1:\n",
    "                zero_min_pi_add_val += 2*np.pi\n",
    "            prev = 0\n",
    "            polar_gait[1] += zero_pi_add_val\n",
    "        else:\n",
    "            if prev == 0:\n",
    "                zero_pi_add_val += 2*np.pi\n",
    "            prev = 1\n",
    "            polar_gait[1] += zero_min_pi_add_val\n",
    "        \n",
    "        allpts_gait.append((x_gait, y_gait))\n",
    "        allpts_gait_polar.append((polar_gait[0], polar_gait[1]))\n",
    "\n",
    "print(allpts_gait_polar[:10], '\\n')\n",
    "print(allpts_gait_polar[100:120], '\\n')\n",
    "print(allpts_gait_polar[180:210], '\\n')\n",
    "\n",
    "\n",
    "print(allpts_gait_polar[210:220], '\\n')\n",
    "print(allpts_gait_polar[300:320], '\\n')\n",
    "print(allpts_gait_polar[380:410], '\\n')\n"
   ]
  },
  {
   "cell_type": "code",
   "execution_count": 191,
   "metadata": {},
   "outputs": [
    {
     "name": "stdout",
     "output_type": "stream",
     "text": [
      "-0.21219016698390175 0.03181946470648556\n"
     ]
    }
   ],
   "source": [
    "actualcount_L = odrv0.axis0.encoder.pos_estimate\n",
    "actualThetaL = getAngleL(actualcount_L, zero_L, motor_cpr[0])\n",
    "actualcount_R = odrv0.axis1.encoder.pos_estimate\n",
    "actualThetaR = getAngleR(actualcount_R, zero_R, motor_cpr[1])\n",
    "\n",
    "# 2. find closest pt on the trajectory and its thetaL and thetaR\n",
    "M = frwd_kinmtcs_lambda(actualThetaR, actualThetaL)\n",
    "actualX, actualY = sym_to_np(M).reshape((1,2))[0]\n",
    "\n",
    "print(actualX, actualY)"
   ]
  },
  {
   "cell_type": "code",
   "execution_count": 24,
   "metadata": {},
   "outputs": [],
   "source": [
    "# -0.21219016698390175 to 0.20728376320328756\n",
    "start_x = -0.220*1000 # -220\n",
    "end_x = 0.220*1000 # 220\n",
    "possible_x = np.arange(start_x, end_x, 1) # in mm\n",
    "\n",
    "# 0.0732437783436377 to 0.24719020748058496\n",
    "start_y = 0.070*1000 # 70\n",
    "end_y = 0.250*1000 # 250\n",
    "possible_y = np.arange(start_y, end_y, 1) # in mm\n",
    "\n",
    "# make cache\n",
    "ik_map = np.zeros((possible_x.shape[0], possible_y.shape[0], 2))\n",
    "\n",
    "def get_x_idx(x, start_x):\n",
    "    return int(x - int(start_x))\n",
    "\n",
    "def get_y_idx(y, start_y):\n",
    "    return int(y - int(start_y))\n",
    "\n",
    "\"\"\"\n",
    "for x in possible_x:\n",
    "    for y in possible_y:\n",
    "        print(x, y)\n",
    "        x_idx = get_x_idx(x, start_x)\n",
    "        y_idx = get_y_idx(y, start_y)\n",
    "        res = IK_5_link(x/1000, y/1000)\n",
    "        thetaR = res[0].x[0]\n",
    "        thetaL = res[0].x[1]\n",
    "        ik_map[x_idx, y_idx, 0] = thetaL\n",
    "        ik_map[x_idx, y_idx, 1] = thetaR\n",
    "\"\"\"\n",
    "# np.save('ik_map_2.npy', ik_map)\n",
    "ik_map = np.load('ik_map.npy')\n",
    "def get_ik(world_x, world_y):\n",
    "    x_idx = get_x_idx(world_x*1000, start_x)\n",
    "    y_idx = get_y_idx(world_y*1000, start_y)\n",
    "    return ik_map[x_idx,y_idx,:]"
   ]
  },
  {
   "cell_type": "code",
   "execution_count": 19,
   "metadata": {},
   "outputs": [],
   "source": [
    "ik_map = np.load('ik_map.npy')"
   ]
  },
  {
   "cell_type": "code",
   "execution_count": 25,
   "metadata": {},
   "outputs": [
    {
     "data": {
      "text/plain": [
       "array([1.36294095, 0.11175418])"
      ]
     },
     "execution_count": 25,
     "metadata": {},
     "output_type": "execute_result"
    }
   ],
   "source": [
    "get_ik(0.1211999, 0.17000099999)"
   ]
  },
  {
   "cell_type": "code",
   "execution_count": 40,
   "metadata": {},
   "outputs": [
    {
     "ename": "ValueError",
     "evalue": "attempt to get argmin of an empty sequence",
     "output_type": "error",
     "traceback": [
      "\u001b[0;31m---------------------------------------------------------------------------\u001b[0m",
      "\u001b[0;31mValueError\u001b[0m                                Traceback (most recent call last)",
      "\u001b[0;32m<ipython-input-40-6d1e70fb3ef9>\u001b[0m in \u001b[0;36m<module>\u001b[0;34m\u001b[0m\n\u001b[1;32m     42\u001b[0m                                             \u001b[0mfrwd_pts_gait_polar\u001b[0m\u001b[0;34m,\u001b[0m\u001b[0;34m\u001b[0m\u001b[0;34m\u001b[0m\u001b[0m\n\u001b[1;32m     43\u001b[0m                                             \u001b[0mlen\u001b[0m\u001b[0;34m(\u001b[0m\u001b[0mfrwd_pts_gait_polar\u001b[0m\u001b[0;34m)\u001b[0m\u001b[0;34m,\u001b[0m\u001b[0;34m\u001b[0m\u001b[0;34m\u001b[0m\u001b[0m\n\u001b[0;32m---> 44\u001b[0;31m                                             startidx)\n\u001b[0m\u001b[1;32m     45\u001b[0m     \u001b[0mnextPtX_gait\u001b[0m\u001b[0;34m,\u001b[0m \u001b[0mnextPtY_gait\u001b[0m \u001b[0;34m=\u001b[0m \u001b[0mnextPtRadial_gait\u001b[0m\u001b[0;34m*\u001b[0m\u001b[0mnp\u001b[0m\u001b[0;34m.\u001b[0m\u001b[0mcos\u001b[0m\u001b[0;34m(\u001b[0m\u001b[0mnextPtTheta_gait\u001b[0m\u001b[0;34m)\u001b[0m\u001b[0;34m,\u001b[0m\u001b[0;31m \u001b[0m\u001b[0;31m\\\u001b[0m\u001b[0;34m\u001b[0m\u001b[0;34m\u001b[0m\u001b[0m\n\u001b[1;32m     46\u001b[0m                                     \u001b[0mnextPtRadial_gait\u001b[0m\u001b[0;34m*\u001b[0m\u001b[0mnp\u001b[0m\u001b[0;34m.\u001b[0m\u001b[0msin\u001b[0m\u001b[0;34m(\u001b[0m\u001b[0mnextPtTheta_gait\u001b[0m\u001b[0;34m)\u001b[0m\u001b[0;34m\u001b[0m\u001b[0;34m\u001b[0m\u001b[0m\n",
      "\u001b[0;32m<ipython-input-35-15c3012c97f1>\u001b[0m in \u001b[0;36mclosestPolarPointInTrajectory\u001b[0;34m(currPolarPos, targetPolarTraj, length, startidx)\u001b[0m\n\u001b[1;32m     47\u001b[0m \u001b[0;31m#         error.append(err)\u001b[0m\u001b[0;34m\u001b[0m\u001b[0;34m\u001b[0m\u001b[0;34m\u001b[0m\u001b[0m\n\u001b[1;32m     48\u001b[0m \u001b[0;31m# #     print(error)\u001b[0m\u001b[0;34m\u001b[0m\u001b[0;34m\u001b[0m\u001b[0;34m\u001b[0m\u001b[0m\n\u001b[0;32m---> 49\u001b[0;31m     \u001b[0mminerr_idx\u001b[0m \u001b[0;34m=\u001b[0m \u001b[0mnp\u001b[0m\u001b[0;34m.\u001b[0m\u001b[0margmin\u001b[0m\u001b[0;34m(\u001b[0m\u001b[0merror\u001b[0m\u001b[0;34m)\u001b[0m\u001b[0;34m\u001b[0m\u001b[0;34m\u001b[0m\u001b[0m\n\u001b[0m\u001b[1;32m     50\u001b[0m \u001b[0;31m#     print('min at idx', startidx+minerr_idx)\u001b[0m\u001b[0;34m\u001b[0m\u001b[0;34m\u001b[0m\u001b[0;34m\u001b[0m\u001b[0m\n\u001b[1;32m     51\u001b[0m     \u001b[0;32mreturn\u001b[0m \u001b[0mtargetPolarTraj\u001b[0m\u001b[0;34m[\u001b[0m\u001b[0mminerr_idx\u001b[0m\u001b[0;34m]\u001b[0m\u001b[0;34m\u001b[0m\u001b[0;34m\u001b[0m\u001b[0m\n",
      "\u001b[0;32m~/anaconda3/lib/python3.7/site-packages/numpy/core/fromnumeric.py\u001b[0m in \u001b[0;36margmin\u001b[0;34m(a, axis, out)\u001b[0m\n\u001b[1;32m   1170\u001b[0m \u001b[0;34m\u001b[0m\u001b[0m\n\u001b[1;32m   1171\u001b[0m     \"\"\"\n\u001b[0;32m-> 1172\u001b[0;31m     \u001b[0;32mreturn\u001b[0m \u001b[0m_wrapfunc\u001b[0m\u001b[0;34m(\u001b[0m\u001b[0ma\u001b[0m\u001b[0;34m,\u001b[0m \u001b[0;34m'argmin'\u001b[0m\u001b[0;34m,\u001b[0m \u001b[0maxis\u001b[0m\u001b[0;34m=\u001b[0m\u001b[0maxis\u001b[0m\u001b[0;34m,\u001b[0m \u001b[0mout\u001b[0m\u001b[0;34m=\u001b[0m\u001b[0mout\u001b[0m\u001b[0;34m)\u001b[0m\u001b[0;34m\u001b[0m\u001b[0;34m\u001b[0m\u001b[0m\n\u001b[0m\u001b[1;32m   1173\u001b[0m \u001b[0;34m\u001b[0m\u001b[0m\n\u001b[1;32m   1174\u001b[0m \u001b[0;34m\u001b[0m\u001b[0m\n",
      "\u001b[0;32m~/anaconda3/lib/python3.7/site-packages/numpy/core/fromnumeric.py\u001b[0m in \u001b[0;36m_wrapfunc\u001b[0;34m(obj, method, *args, **kwds)\u001b[0m\n\u001b[1;32m     54\u001b[0m \u001b[0;32mdef\u001b[0m \u001b[0m_wrapfunc\u001b[0m\u001b[0;34m(\u001b[0m\u001b[0mobj\u001b[0m\u001b[0;34m,\u001b[0m \u001b[0mmethod\u001b[0m\u001b[0;34m,\u001b[0m \u001b[0;34m*\u001b[0m\u001b[0margs\u001b[0m\u001b[0;34m,\u001b[0m \u001b[0;34m**\u001b[0m\u001b[0mkwds\u001b[0m\u001b[0;34m)\u001b[0m\u001b[0;34m:\u001b[0m\u001b[0;34m\u001b[0m\u001b[0;34m\u001b[0m\u001b[0m\n\u001b[1;32m     55\u001b[0m     \u001b[0;32mtry\u001b[0m\u001b[0;34m:\u001b[0m\u001b[0;34m\u001b[0m\u001b[0;34m\u001b[0m\u001b[0m\n\u001b[0;32m---> 56\u001b[0;31m         \u001b[0;32mreturn\u001b[0m \u001b[0mgetattr\u001b[0m\u001b[0;34m(\u001b[0m\u001b[0mobj\u001b[0m\u001b[0;34m,\u001b[0m \u001b[0mmethod\u001b[0m\u001b[0;34m)\u001b[0m\u001b[0;34m(\u001b[0m\u001b[0;34m*\u001b[0m\u001b[0margs\u001b[0m\u001b[0;34m,\u001b[0m \u001b[0;34m**\u001b[0m\u001b[0mkwds\u001b[0m\u001b[0;34m)\u001b[0m\u001b[0;34m\u001b[0m\u001b[0;34m\u001b[0m\u001b[0m\n\u001b[0m\u001b[1;32m     57\u001b[0m \u001b[0;34m\u001b[0m\u001b[0m\n\u001b[1;32m     58\u001b[0m     \u001b[0;31m# An AttributeError occurs if the object does not have\u001b[0m\u001b[0;34m\u001b[0m\u001b[0;34m\u001b[0m\u001b[0;34m\u001b[0m\u001b[0m\n",
      "\u001b[0;31mValueError\u001b[0m: attempt to get argmin of an empty sequence"
     ]
    }
   ],
   "source": [
    "last_actual_idx = 0\n",
    "\n",
    "frwd_kinmtcs = FK.subs([(link1_sym, l1),(link2_sym, l2),(width_sym, w)]).evalf()\n",
    "frwd_kinmtcs_lambda = lambdify((thetaR_sym, thetaL_sym), frwd_kinmtcs)\n",
    "\n",
    "for idx, val in enumerate(allpts_gait_polar):\n",
    "    loop_start = time.process_time()\n",
    "    \n",
    "    # 1. find actual thetaL and thetaR\n",
    "    actualcount_L = odrv0.axis0.encoder.pos_estimate\n",
    "    actualThetaL = getAngleL(actualcount_L,zero_L, motor_cpr[0])\n",
    "    actualcount_R = odrv0.axis1.encoder.pos_estimate\n",
    "    actualThetaR = getAngleR(actualcount_R,zero_R, motor_cpr[1])\n",
    "\n",
    "    # 2. find closest pt on the trajectory and its thetaL and thetaR\n",
    "    M = frwd_kinmtcs_lambda(actualThetaR, actualThetaL)\n",
    "    actualX, actualY = sym_to_np(M).reshape((1,2))[0]\n",
    "#     print('\\nactualX and actualY are', actualX, actualY)\n",
    "    actualX_gait, actualY_gait = getNewCoordinates(gaitOrigin, actualX, actualY)\n",
    "    \n",
    "    timetaken = time.process_time()-loop_start\n",
    "    print('got new coords in {} sec'.format(timetaken))\n",
    "\n",
    "    no_pertub_idx = idx\n",
    "\n",
    "    polar_gait = getNewPolarCoordinates(np.array([actualX_gait, actualY_gait]))\n",
    "#     print('polar_gait', polar_gait)\n",
    "\n",
    "    actual_idx = idxOfClosestPolarPointInTraj(polar_gait, allpts_gait_polar, margin=2, length=N)\n",
    "    \n",
    "    timetaken2 = time.process_time()-timetaken\n",
    "    print('got id of closest polar pt in {} sec'.format(timetaken2))\n",
    "    \n",
    "    curr_setpt = odrv0.axis0.motor.current_control.Iq_setpoint\n",
    "    if actual_idx <= last_actual_idx and np.abs(curr_setpt) < 10:\n",
    "#         print('no change in actual_idx so bumped it to last_actual_idx + 1')\n",
    "        actual_idx = last_actual_idx + 1\n",
    "    elif actual_idx <= last_actual_idx:\n",
    "#         print('seems like a perturbation, so will keep it at last_actual_idx')\n",
    "        actual_idx = last_actual_idx\n",
    "        \n",
    "#     print('trying to do current:', odrv0.axis0.motor.current_control.Iq_setpoint)\n",
    "\n",
    "#     print('actual_idx', actual_idx)\n",
    "    last_actual_idx = actual_idx # update last actual idx\n",
    "    startidx = actual_idx+1\n",
    "    endidx = actual_idx+16\n",
    "    frwd_pts_gait_polar = allpts_gait_polar[startidx:endidx]\n",
    "    nextPtRadial_gait, nextPtTheta_gait = closestPolarPointInTrajectory(\n",
    "                                            polar_gait,\n",
    "                                            frwd_pts_gait_polar,\n",
    "                                            len(frwd_pts_gait_polar),\n",
    "                                            startidx)\n",
    "    nextPtX_gait, nextPtY_gait = nextPtRadial_gait*np.cos(nextPtTheta_gait), \\\n",
    "                                    nextPtRadial_gait*np.sin(nextPtTheta_gait)\n",
    "    nextPtX_world, nextPtY_world = getWorldCoord(gaitOrigin, nextPtX_gait, nextPtY_gait)\n",
    "    \n",
    "    timetaken3 = time.process_time()-timetaken2\n",
    "    print('got id of closest polar pt in {} sec'.format(timetaken3))\n",
    "    \n",
    "    thetaL, thetaR = get_ik(nextPtX_world, nextPtY_world)\n",
    "#     res = IK_5_link(nextPtX_world, nextPtY_world)\n",
    "#     thetaR = res[0].x[0]\n",
    "#     thetaL = res[0].x[1]\n",
    "\n",
    "    # 3. command motors to go to the closest pt\n",
    "    countL = encoderCountAtAngleL(thetaL, zero_L, motor_cpr[0])\n",
    "    countR = encoderCountAtAngleR(thetaR, zero_R, motor_cpr[1])\n",
    "    odrv0.axis0.controller.set_pos_setpoint(countL,0,0)\n",
    "    odrv0.axis1.controller.set_pos_setpoint(countR,0,0)\n",
    "\n",
    "    actualAnglesL.append(((idx+1)*t, actualThetaL))\n",
    "    actualAnglesR.append(((idx+1)*t, actualThetaR))\n",
    "\n",
    "time.sleep(3)\n",
    "odrv0.axis0.controller.set_pos_setpoint(zero_L,0,0)\n",
    "odrv0.axis1.controller.set_pos_setpoint(zero_R,0,0)\n",
    "time.sleep(3)\n",
    "odrv0.axis0.requested_state = odrive.enums.AXIS_STATE_IDLE\n",
    "odrv0.axis1.requested_state = odrive.enums.AXIS_STATE_IDLE"
   ]
  },
  {
   "cell_type": "code",
   "execution_count": 34,
   "metadata": {},
   "outputs": [],
   "source": [
    "odrv0.axis0.requested_state = odrive.enums.AXIS_STATE_IDLE\n",
    "odrv0.axis1.requested_state = odrive.enums.AXIS_STATE_IDLE"
   ]
  },
  {
   "cell_type": "code",
   "execution_count": null,
   "metadata": {},
   "outputs": [],
   "source": [
    "def findCoordOfEndPt(thetaL, thetaR):\n",
    "    M = FK.subs([(thetaL_sym, thetaL),(thetaR_sym, thetaR),(link1_sym, l1),(link2_sym, l2),(width_sym, w)])\n",
    "    x, y = sym_to_np(M).reshape((1,2))[0]\n",
    "    return x, y\n",
    "\n",
    "for idx, val in enumerate(actualAnglesL):\n",
    "    thetaL = actualAnglesL[idx][1]\n",
    "    thetaR = actualAnglesR[idx][1]\n",
    "    actualX, actualY = findCoordOfEndPt(thetaL, thetaR)\n",
    "    timeActualPos.append((actualX, actualY))"
   ]
  },
  {
   "cell_type": "code",
   "execution_count": null,
   "metadata": {},
   "outputs": [],
   "source": [
    "figure(figsize=(12, 8), dpi=80, facecolor='w', edgecolor='k')\n",
    "plt.scatter(*zip(*timeActualPos), label='actual foot position')\n",
    "plt.scatter(*zip(*allpts), label='target foot position')\n",
    "plt.scatter(xonn, yonn)\n",
    "# point1 = [timeActualPos]\n",
    "# for idx in np.arange():\n",
    "#     point1 = [1, 2]\n",
    "#     point2 = [3, 4]\n",
    "#     x_values = [point1[0], point2[0]]\n",
    "#     y_values = [point1[1], point2[1]]\n",
    "\n",
    "#     plt.plot(x_values, y_values)\n",
    "\n",
    "plt.title('actual & target foot position')\n",
    "plt.xlabel('x')\n",
    "plt.ylabel('y')\n",
    "plt.legend()\n",
    "plt.show()"
   ]
  },
  {
   "cell_type": "markdown",
   "metadata": {},
   "source": [
    "### Code to plot actual  and commanded motor position vs time"
   ]
  },
  {
   "cell_type": "code",
   "execution_count": null,
   "metadata": {},
   "outputs": [],
   "source": [
    "plt.scatter(*zip(*actualAnglesL), label='actual motor position')\n",
    "plt.scatter(*zip(*timeThetaL), label='commanded motor position')\n",
    "plt.title('Case 1 - actual & commanded motor position (thetaL) vs time')\n",
    "plt.xlabel('time')\n",
    "plt.ylabel('theta L')\n",
    "plt.legend()\n",
    "plt.show()"
   ]
  }
 ],
 "metadata": {
  "kernelspec": {
   "display_name": "Python 3",
   "language": "python",
   "name": "python3"
  },
  "language_info": {
   "codemirror_mode": {
    "name": "ipython",
    "version": 3
   },
   "file_extension": ".py",
   "mimetype": "text/x-python",
   "name": "python",
   "nbconvert_exporter": "python",
   "pygments_lexer": "ipython3",
   "version": "3.7.3"
  }
 },
 "nbformat": 4,
 "nbformat_minor": 2
}
